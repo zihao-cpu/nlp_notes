{
 "cells": [
  {
   "cell_type": "code",
   "execution_count": null,
   "id": "66c96f7a",
   "metadata": {},
   "outputs": [],
   "source": [
    "class Encoder(nn.Module):\n",
    "    def __init__(self, **kwargs):\n",
    "        super(Encoder, self).__init__()\n",
    "\n",
    "class Decoder(nn.Module):\n",
    "    def __init__(self, **kwargs):\n",
    "        super(Decoder, self).__init__()\n",
    "    def init_state(self, enc_out):  \n",
    "        \"\"\"Initialize the decoder's state.\"\"\"\n",
    "        raise NotImplementedError\n",
    "    def forward(self, inputs, state):\n",
    "        raise NotImplementedError\n",
    "    \n",
    "class EncoderDecoder(nn.Module):\n",
    "    def __init__(self, encoder, decoder, **kwargs):\n",
    "        super(EncoderDecoder, self).__init__()\n",
    "        self.encoder = encoder\n",
    "        self.decoder = decoder\n",
    "        self.init_weights()\n",
    "        \n",
    "    def init_weights(self):\n",
    "        \"\"\"Initialize the weights.\"\"\"\n",
    "        raise NotImplementedError\n",
    "    \n",
    "    def forward(self, enc_x, dec_x,**kwargs):\n",
    "        enc_outputs=self.encoder(enc_x,**kwargs)\n",
    "        dec_state=self.decoder.init_state(enc_outputs,**kwargs)\n",
    "        return self.decoder(dec_x,dec_state)\n",
    "    \n"
   ]
  },
  {
   "cell_type": "markdown",
   "id": "3eef6a1d",
   "metadata": {},
   "source": [
    "<img src=\"../images/seq2seq模型.jpg\" width=\"60%\">"
   ]
  },
  {
   "cell_type": "code",
   "execution_count": null,
   "id": "384adfe5",
   "metadata": {},
   "outputs": [],
   "source": [
    "class Seq2SeqEncoder(nn.Module):\n",
    "    def __init__(self, vocab_size, embed_size, num_hiddens, num_layers=1, dropout=0.0,**kwargs):\n",
    "        super(Seq2SeqEncoder, self).__init__()\n",
    "        self.embedding = nn.Embedding(vocab_size, embed_size)\n",
    "        self.rnn = nn.LSTM(embed_size, num_hiddens, num_layers, dropout=dropout, batch_first=True)\n",
    "        self.num_hiddens = num_hiddens\n",
    "        self.num_layers = num_layers\n",
    "\n",
    "    def begin_state(self, batch_size=1, device=torch.device('cpu'), dtype=torch.float32):\n",
    "        return (torch.zeros((self.num_layers, batch_size, self.num_hiddens), device=device, dtype=dtype),\n",
    "                torch.zeros((self.num_layers, batch_size, self.num_hiddens), device=device, dtype=dtype))\n",
    "\n",
    "    def forward(self, inputs, state=None):\n",
    "        X = self.embedding(inputs)\n",
    "        X=X.transpose(0,1)#batch_size,seq_len,embed_size\n",
    "        out,state=self.rnn(X)\n",
    "        return out, state\n",
    "\n",
    "\n",
    "\n",
    "class Seq2SeqDecoder(nn.Module):\n",
    "    def __init__(self, vocab_size, embed_size, num_hiddens, num_layers=1, dropout=0.0,**kwargs):\n",
    "        super(Seq2SeqDecoder, self).__init__()\n",
    "        self.embedding = nn.Embedding(vocab_size, embed_size)\n",
    "        self.rnn = nn.LSTM(embed_size, num_hiddens, num_layers, dropout=dropout, batch_first=True)\n",
    "        self.dense = nn.Linear(num_hiddens, vocab_size)\n",
    "\n",
    "    def init_state(self, enc_outputs, batch_size=1, device=torch.device('cpu'), dtype=torch.float32):\n",
    "        return enc_outputs[1]\n",
    "\n",
    "    def forward(self, inputs,state=None):\n",
    "        X = self.embedding(inputs)\n",
    "        X=X.transpose(0,1)#batch_size,seq_len,embed_size\n",
    "        out,state=self.rnn(X,state)\n",
    "        out=self.dense(out).transpose(0,1)\n",
    "        return out, state\n",
    "    "
   ]
  },
  {
   "cell_type": "markdown",
   "id": "2cfcbb6d",
   "metadata": {},
   "source": [
    "## 注意力机制框架\n",
    "<img src=\"../images/注意力机制框架.jpg\" width=\"60%\">"
   ]
  }
 ],
 "metadata": {
  "kernelspec": {
   "display_name": "Python 3",
   "language": "python",
   "name": "python3"
  },
  "language_info": {
   "name": "python",
   "version": "3.8.6"
  }
 },
 "nbformat": 4,
 "nbformat_minor": 5
}
