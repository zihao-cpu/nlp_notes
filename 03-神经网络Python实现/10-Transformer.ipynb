{
 "cells": [
  {
   "cell_type": "markdown",
   "id": "1fad310d",
   "metadata": {},
   "source": [
    "## 前馈神经网络\n",
    "前馈神经网络也叫多层感知机"
   ]
  },
  {
   "cell_type": "code",
   "execution_count": null,
   "id": "0a9e2673",
   "metadata": {},
   "outputs": [],
   "source": [
    "class PostionWiseFFN(nn.Module):\n",
    "    def __init__(self, input_size, ffn_hidden_size,hiddent_size_out):\n",
    "        super(PostionWiseFFN, self).__init__()\n",
    "        self.ffn1 = nn.Linear(input_size, ffn_hidden_size)\n",
    "        self.ffn2 = nn.Linear(ffn_hidden_size, hiddent_size_out)\n",
    "\n",
    "\n",
    "    def forward(self, x):\n",
    "        x = self.ffn1(x)\n",
    "        x = F.relu(x)\n",
    "        x = self.ffn2(x)\n",
    "        return x\n"
   ]
  }
 ],
 "metadata": {
  "kernelspec": {
   "display_name": "Python 3",
   "language": "python",
   "name": "python3"
  },
  "language_info": {
   "name": "python",
   "version": "3.8.6"
  }
 },
 "nbformat": 4,
 "nbformat_minor": 5
}
